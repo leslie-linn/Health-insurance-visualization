{
 "cells": [
  {
   "cell_type": "code",
   "execution_count": 1,
   "metadata": {},
   "outputs": [],
   "source": [
    "from pyspark.sql import SparkSession\n",
    "spark = SparkSession.builder.getOrCreate()"
   ]
  },
  {
   "cell_type": "code",
   "execution_count": 3,
   "metadata": {},
   "outputs": [],
   "source": [
    "df = spark.read.csv('data/BenefitsCostSharing.csv', header=True, inferSchema=True)"
   ]
  },
  {
   "cell_type": "code",
   "execution_count": 4,
   "metadata": {},
   "outputs": [
    {
     "name": "stdout",
     "output_type": "stream",
     "text": [
      "+--------------------+------------+-------------+-------------+-------------+-------------+-------------+-------------+--------------------+----------+--------------------+-------------------+---------+-----+-----------------+-----------------+--------------+----------------+----------------+--------+---------+--------+--------------------+-----------+-----------------+---------------+---------+----------+-------------------+---------+----------+----------+\n",
      "|         BenefitName|BusinessYear|CoinsInnTier1|CoinsInnTier2|CoinsOutofNet|CopayInnTier1|CopayInnTier2|CopayOutofNet|        EHBVarReason|Exclusions|         Explanation|         ImportDate|IsCovered|IsEHB|IsExclFromInnMOOP|IsExclFromOonMOOP|IsStateMandate|IsSubjToDedTier1|IsSubjToDedTier2|IssuerId|IssuerId2|LimitQty|           LimitUnit|MinimumStay|           PlanId|QuantLimitOnSvc|RowNumber|SourceName|StandardComponentId|StateCode|StateCode2|VersionNum|\n",
      "+--------------------+------------+-------------+-------------+-------------+-------------+-------------+-------------+--------------------+----------+--------------------+-------------------+---------+-----+-----------------+-----------------+--------------+----------------+----------------+--------+---------+--------+--------------------+-----------+-----------------+---------------+---------+----------+-------------------+---------+----------+----------+\n",
      "|Routine Dental Se...|        2014|          20%|         null|          20%|    No Charge|         null|    No Charge|           Above EHB|      null|Combined annual b...|2014-03-19 07:06:49|  Covered| null|               No|               No|          null|              No|              No|   21989|    21989|  1000.0|    Dollars per Year|       null|21989AK0010001-00|            Yes|       68|      HIOS|     21989AK0010001|       AK|        AK|         6|\n",
      "|Dental Check-Up f...|        2014|          20%|         null|          20%|    No Charge|         null|    No Charge| Substantially Equal|      null|See policy for ad...|2014-03-19 07:06:49|  Covered|  Yes|               No|               No|          null|              No|              No|   21989|    21989|     1.0|Visit(s) per 6 Mo...|       null|21989AK0010001-00|            Yes|      104|      HIOS|     21989AK0010001|       AK|        AK|         6|\n",
      "|Basic Dental Care...|        2014|          40%|         null|          40%|    No Charge|         null|    No Charge| Substantially Equal|      null|See policy for ad...|2014-03-19 07:06:49|  Covered|  Yes|               No|               No|          null|             Yes|             Yes|   21989|    21989|    null|                null|       null|21989AK0010001-00|           null|      110|      HIOS|     21989AK0010001|       AK|        AK|         6|\n",
      "| Orthodontia - Child|        2014|          50%|         null|          50%|    No Charge|         null|    No Charge|Additional EHB Be...|      null|24 month waiting ...|2014-03-19 07:06:49|  Covered| null|               No|               No|          null|             Yes|             Yes|   21989|    21989|    null|                null|       null|21989AK0010001-00|           null|      111|      HIOS|     21989AK0010001|       AK|        AK|         6|\n",
      "|Major Dental Care...|        2014|          50%|         null|          50%|    No Charge|         null|    No Charge| Substantially Equal|      null|See policy for ad...|2014-03-19 07:06:49|  Covered|  Yes|               No|               No|          null|             Yes|             Yes|   21989|    21989|    null|                null|       null|21989AK0010001-00|           null|      112|      HIOS|     21989AK0010001|       AK|        AK|         6|\n",
      "+--------------------+------------+-------------+-------------+-------------+-------------+-------------+-------------+--------------------+----------+--------------------+-------------------+---------+-----+-----------------+-----------------+--------------+----------------+----------------+--------+---------+--------+--------------------+-----------+-----------------+---------------+---------+----------+-------------------+---------+----------+----------+\n",
      "only showing top 5 rows\n",
      "\n"
     ]
    }
   ],
   "source": [
    "df.show(5)"
   ]
  },
  {
   "cell_type": "code",
   "execution_count": 5,
   "metadata": {},
   "outputs": [],
   "source": [
    "import numpy as np \n",
    "import pandas as pd \n",
    "import matplotlib.pyplot as plt\n",
    "%matplotlib inline"
   ]
  },
  {
   "cell_type": "code",
   "execution_count": 6,
   "metadata": {},
   "outputs": [],
   "source": [
    "df= pd.read_csv('data/BenefitsCostSharing.csv',low_memory=False)"
   ]
  },
  {
   "cell_type": "markdown",
   "metadata": {},
   "source": [
    "After exploring the data, I found out that there are many types of benefit only have lesss than 20 cases. Therefore, to analyze in a more efficient way, I decided to only take the top 20 most used benefits to perform analysis in this project."
   ]
  },
  {
   "cell_type": "code",
   "execution_count": 7,
   "metadata": {},
   "outputs": [
    {
     "data": {
      "text/plain": [
       "array(['Orthodontia - Adult', 'Accidental Dental',\n",
       "       'Routine Dental Services (Adult)', 'Dental Check-Up for Children',\n",
       "       'Major Dental Care - Adult', 'Major Dental Care - Child',\n",
       "       'Basic Dental Care - Adult', 'Basic Dental Care - Child',\n",
       "       'Orthodontia - Child',\n",
       "       'Treatment for Temporomandibular Joint Disorders',\n",
       "       'Hospice Services', 'Urgent Care Centers or Facilities',\n",
       "       'Private-Duty Nursing', 'Prosthetic Devices', 'Hearing Aids',\n",
       "       'Routine Foot Care', 'Imaging (CT/PET Scans, MRIs)',\n",
       "       'Primary Care Visit to Treat an Injury or Illness',\n",
       "       'Abortion for Which Public Funding is Prohibited',\n",
       "       'Infusion Therapy'], dtype=object)"
      ]
     },
     "execution_count": 7,
     "metadata": {},
     "output_type": "execute_result"
    }
   ],
   "source": [
    "top20_benefit = df['BenefitName'].value_counts()[:20]\n",
    "top20_benefit.index.values\n"
   ]
  },
  {
   "cell_type": "code",
   "execution_count": 8,
   "metadata": {},
   "outputs": [
    {
     "data": {
      "text/html": [
       "<div>\n",
       "<style scoped>\n",
       "    .dataframe tbody tr th:only-of-type {\n",
       "        vertical-align: middle;\n",
       "    }\n",
       "\n",
       "    .dataframe tbody tr th {\n",
       "        vertical-align: top;\n",
       "    }\n",
       "\n",
       "    .dataframe thead th {\n",
       "        text-align: right;\n",
       "    }\n",
       "</style>\n",
       "<table border=\"1\" class=\"dataframe\">\n",
       "  <thead>\n",
       "    <tr style=\"text-align: right;\">\n",
       "      <th></th>\n",
       "      <th>BenefitName</th>\n",
       "      <th>BusinessYear</th>\n",
       "      <th>CoinsInnTier1</th>\n",
       "      <th>CoinsInnTier2</th>\n",
       "      <th>CoinsOutofNet</th>\n",
       "      <th>CopayInnTier1</th>\n",
       "      <th>CopayInnTier2</th>\n",
       "      <th>CopayOutofNet</th>\n",
       "      <th>EHBVarReason</th>\n",
       "      <th>Exclusions</th>\n",
       "      <th>...</th>\n",
       "      <th>LimitUnit</th>\n",
       "      <th>MinimumStay</th>\n",
       "      <th>PlanId</th>\n",
       "      <th>QuantLimitOnSvc</th>\n",
       "      <th>RowNumber</th>\n",
       "      <th>SourceName</th>\n",
       "      <th>StandardComponentId</th>\n",
       "      <th>StateCode</th>\n",
       "      <th>StateCode2</th>\n",
       "      <th>VersionNum</th>\n",
       "    </tr>\n",
       "  </thead>\n",
       "  <tbody>\n",
       "    <tr>\n",
       "      <th>0</th>\n",
       "      <td>Routine Dental Services (Adult)</td>\n",
       "      <td>2014</td>\n",
       "      <td>20%</td>\n",
       "      <td>NaN</td>\n",
       "      <td>20%</td>\n",
       "      <td>No Charge</td>\n",
       "      <td>NaN</td>\n",
       "      <td>No Charge</td>\n",
       "      <td>Above EHB</td>\n",
       "      <td>NaN</td>\n",
       "      <td>...</td>\n",
       "      <td>Dollars per Year</td>\n",
       "      <td>NaN</td>\n",
       "      <td>21989AK0010001-00</td>\n",
       "      <td>Yes</td>\n",
       "      <td>68</td>\n",
       "      <td>HIOS</td>\n",
       "      <td>21989AK0010001</td>\n",
       "      <td>AK</td>\n",
       "      <td>AK</td>\n",
       "      <td>6</td>\n",
       "    </tr>\n",
       "    <tr>\n",
       "      <th>1</th>\n",
       "      <td>Dental Check-Up for Children</td>\n",
       "      <td>2014</td>\n",
       "      <td>20%</td>\n",
       "      <td>NaN</td>\n",
       "      <td>20%</td>\n",
       "      <td>No Charge</td>\n",
       "      <td>NaN</td>\n",
       "      <td>No Charge</td>\n",
       "      <td>Substantially Equal</td>\n",
       "      <td>NaN</td>\n",
       "      <td>...</td>\n",
       "      <td>Visit(s) per 6 Months</td>\n",
       "      <td>NaN</td>\n",
       "      <td>21989AK0010001-00</td>\n",
       "      <td>Yes</td>\n",
       "      <td>104</td>\n",
       "      <td>HIOS</td>\n",
       "      <td>21989AK0010001</td>\n",
       "      <td>AK</td>\n",
       "      <td>AK</td>\n",
       "      <td>6</td>\n",
       "    </tr>\n",
       "    <tr>\n",
       "      <th>2</th>\n",
       "      <td>Basic Dental Care - Child</td>\n",
       "      <td>2014</td>\n",
       "      <td>40%</td>\n",
       "      <td>NaN</td>\n",
       "      <td>40%</td>\n",
       "      <td>No Charge</td>\n",
       "      <td>NaN</td>\n",
       "      <td>No Charge</td>\n",
       "      <td>Substantially Equal</td>\n",
       "      <td>NaN</td>\n",
       "      <td>...</td>\n",
       "      <td>NaN</td>\n",
       "      <td>NaN</td>\n",
       "      <td>21989AK0010001-00</td>\n",
       "      <td>NaN</td>\n",
       "      <td>110</td>\n",
       "      <td>HIOS</td>\n",
       "      <td>21989AK0010001</td>\n",
       "      <td>AK</td>\n",
       "      <td>AK</td>\n",
       "      <td>6</td>\n",
       "    </tr>\n",
       "    <tr>\n",
       "      <th>3</th>\n",
       "      <td>Orthodontia - Child</td>\n",
       "      <td>2014</td>\n",
       "      <td>50%</td>\n",
       "      <td>NaN</td>\n",
       "      <td>50%</td>\n",
       "      <td>No Charge</td>\n",
       "      <td>NaN</td>\n",
       "      <td>No Charge</td>\n",
       "      <td>Additional EHB Benefit</td>\n",
       "      <td>NaN</td>\n",
       "      <td>...</td>\n",
       "      <td>NaN</td>\n",
       "      <td>NaN</td>\n",
       "      <td>21989AK0010001-00</td>\n",
       "      <td>NaN</td>\n",
       "      <td>111</td>\n",
       "      <td>HIOS</td>\n",
       "      <td>21989AK0010001</td>\n",
       "      <td>AK</td>\n",
       "      <td>AK</td>\n",
       "      <td>6</td>\n",
       "    </tr>\n",
       "    <tr>\n",
       "      <th>4</th>\n",
       "      <td>Major Dental Care - Child</td>\n",
       "      <td>2014</td>\n",
       "      <td>50%</td>\n",
       "      <td>NaN</td>\n",
       "      <td>50%</td>\n",
       "      <td>No Charge</td>\n",
       "      <td>NaN</td>\n",
       "      <td>No Charge</td>\n",
       "      <td>Substantially Equal</td>\n",
       "      <td>NaN</td>\n",
       "      <td>...</td>\n",
       "      <td>NaN</td>\n",
       "      <td>NaN</td>\n",
       "      <td>21989AK0010001-00</td>\n",
       "      <td>NaN</td>\n",
       "      <td>112</td>\n",
       "      <td>HIOS</td>\n",
       "      <td>21989AK0010001</td>\n",
       "      <td>AK</td>\n",
       "      <td>AK</td>\n",
       "      <td>6</td>\n",
       "    </tr>\n",
       "    <tr>\n",
       "      <th>...</th>\n",
       "      <td>...</td>\n",
       "      <td>...</td>\n",
       "      <td>...</td>\n",
       "      <td>...</td>\n",
       "      <td>...</td>\n",
       "      <td>...</td>\n",
       "      <td>...</td>\n",
       "      <td>...</td>\n",
       "      <td>...</td>\n",
       "      <td>...</td>\n",
       "      <td>...</td>\n",
       "      <td>...</td>\n",
       "      <td>...</td>\n",
       "      <td>...</td>\n",
       "      <td>...</td>\n",
       "      <td>...</td>\n",
       "      <td>...</td>\n",
       "      <td>...</td>\n",
       "      <td>...</td>\n",
       "      <td>...</td>\n",
       "      <td>...</td>\n",
       "    </tr>\n",
       "    <tr>\n",
       "      <th>5048403</th>\n",
       "      <td>Major Dental Care - Child</td>\n",
       "      <td>2016</td>\n",
       "      <td>50% Coinsurance after deductible</td>\n",
       "      <td>NaN</td>\n",
       "      <td>50% Coinsurance after deductible</td>\n",
       "      <td>Not Applicable</td>\n",
       "      <td>NaN</td>\n",
       "      <td>Not Applicable</td>\n",
       "      <td>NaN</td>\n",
       "      <td>NaN</td>\n",
       "      <td>...</td>\n",
       "      <td>NaN</td>\n",
       "      <td>NaN</td>\n",
       "      <td>96480WV0110003-00</td>\n",
       "      <td>NaN</td>\n",
       "      <td>112</td>\n",
       "      <td>SERFF</td>\n",
       "      <td>96480WV0110003</td>\n",
       "      <td>WV</td>\n",
       "      <td>WV</td>\n",
       "      <td>2</td>\n",
       "    </tr>\n",
       "    <tr>\n",
       "      <th>5048404</th>\n",
       "      <td>Basic Dental Care - Adult</td>\n",
       "      <td>2016</td>\n",
       "      <td>NaN</td>\n",
       "      <td>NaN</td>\n",
       "      <td>NaN</td>\n",
       "      <td>NaN</td>\n",
       "      <td>NaN</td>\n",
       "      <td>NaN</td>\n",
       "      <td>NaN</td>\n",
       "      <td>NaN</td>\n",
       "      <td>...</td>\n",
       "      <td>NaN</td>\n",
       "      <td>NaN</td>\n",
       "      <td>96480WV0110003-00</td>\n",
       "      <td>NaN</td>\n",
       "      <td>113</td>\n",
       "      <td>SERFF</td>\n",
       "      <td>96480WV0110003</td>\n",
       "      <td>WV</td>\n",
       "      <td>WV</td>\n",
       "      <td>2</td>\n",
       "    </tr>\n",
       "    <tr>\n",
       "      <th>5048405</th>\n",
       "      <td>Orthodontia - Adult</td>\n",
       "      <td>2016</td>\n",
       "      <td>NaN</td>\n",
       "      <td>NaN</td>\n",
       "      <td>NaN</td>\n",
       "      <td>NaN</td>\n",
       "      <td>NaN</td>\n",
       "      <td>NaN</td>\n",
       "      <td>NaN</td>\n",
       "      <td>NaN</td>\n",
       "      <td>...</td>\n",
       "      <td>NaN</td>\n",
       "      <td>NaN</td>\n",
       "      <td>96480WV0110003-00</td>\n",
       "      <td>NaN</td>\n",
       "      <td>114</td>\n",
       "      <td>SERFF</td>\n",
       "      <td>96480WV0110003</td>\n",
       "      <td>WV</td>\n",
       "      <td>WV</td>\n",
       "      <td>2</td>\n",
       "    </tr>\n",
       "    <tr>\n",
       "      <th>5048406</th>\n",
       "      <td>Major Dental Care - Adult</td>\n",
       "      <td>2016</td>\n",
       "      <td>NaN</td>\n",
       "      <td>NaN</td>\n",
       "      <td>NaN</td>\n",
       "      <td>NaN</td>\n",
       "      <td>NaN</td>\n",
       "      <td>NaN</td>\n",
       "      <td>NaN</td>\n",
       "      <td>NaN</td>\n",
       "      <td>...</td>\n",
       "      <td>NaN</td>\n",
       "      <td>NaN</td>\n",
       "      <td>96480WV0110003-00</td>\n",
       "      <td>NaN</td>\n",
       "      <td>115</td>\n",
       "      <td>SERFF</td>\n",
       "      <td>96480WV0110003</td>\n",
       "      <td>WV</td>\n",
       "      <td>WV</td>\n",
       "      <td>2</td>\n",
       "    </tr>\n",
       "    <tr>\n",
       "      <th>5048407</th>\n",
       "      <td>Accidental Dental</td>\n",
       "      <td>2016</td>\n",
       "      <td>NaN</td>\n",
       "      <td>NaN</td>\n",
       "      <td>NaN</td>\n",
       "      <td>NaN</td>\n",
       "      <td>NaN</td>\n",
       "      <td>NaN</td>\n",
       "      <td>NaN</td>\n",
       "      <td>NaN</td>\n",
       "      <td>...</td>\n",
       "      <td>NaN</td>\n",
       "      <td>NaN</td>\n",
       "      <td>96480WV0110003-00</td>\n",
       "      <td>NaN</td>\n",
       "      <td>118</td>\n",
       "      <td>SERFF</td>\n",
       "      <td>96480WV0110003</td>\n",
       "      <td>WV</td>\n",
       "      <td>WV</td>\n",
       "      <td>2</td>\n",
       "    </tr>\n",
       "  </tbody>\n",
       "</table>\n",
       "<p>1418957 rows × 32 columns</p>\n",
       "</div>"
      ],
      "text/plain": [
       "                             BenefitName  BusinessYear  \\\n",
       "0        Routine Dental Services (Adult)          2014   \n",
       "1           Dental Check-Up for Children          2014   \n",
       "2              Basic Dental Care - Child          2014   \n",
       "3                    Orthodontia - Child          2014   \n",
       "4              Major Dental Care - Child          2014   \n",
       "...                                  ...           ...   \n",
       "5048403        Major Dental Care - Child          2016   \n",
       "5048404        Basic Dental Care - Adult          2016   \n",
       "5048405              Orthodontia - Adult          2016   \n",
       "5048406        Major Dental Care - Adult          2016   \n",
       "5048407                Accidental Dental          2016   \n",
       "\n",
       "                            CoinsInnTier1 CoinsInnTier2  \\\n",
       "0                                     20%           NaN   \n",
       "1                                     20%           NaN   \n",
       "2                                     40%           NaN   \n",
       "3                                     50%           NaN   \n",
       "4                                     50%           NaN   \n",
       "...                                   ...           ...   \n",
       "5048403  50% Coinsurance after deductible           NaN   \n",
       "5048404                               NaN           NaN   \n",
       "5048405                               NaN           NaN   \n",
       "5048406                               NaN           NaN   \n",
       "5048407                               NaN           NaN   \n",
       "\n",
       "                            CoinsOutofNet   CopayInnTier1 CopayInnTier2  \\\n",
       "0                                     20%       No Charge           NaN   \n",
       "1                                     20%       No Charge           NaN   \n",
       "2                                     40%       No Charge           NaN   \n",
       "3                                     50%       No Charge           NaN   \n",
       "4                                     50%       No Charge           NaN   \n",
       "...                                   ...             ...           ...   \n",
       "5048403  50% Coinsurance after deductible  Not Applicable           NaN   \n",
       "5048404                               NaN             NaN           NaN   \n",
       "5048405                               NaN             NaN           NaN   \n",
       "5048406                               NaN             NaN           NaN   \n",
       "5048407                               NaN             NaN           NaN   \n",
       "\n",
       "          CopayOutofNet            EHBVarReason Exclusions  ...  \\\n",
       "0             No Charge               Above EHB        NaN  ...   \n",
       "1             No Charge     Substantially Equal        NaN  ...   \n",
       "2             No Charge     Substantially Equal        NaN  ...   \n",
       "3             No Charge  Additional EHB Benefit        NaN  ...   \n",
       "4             No Charge     Substantially Equal        NaN  ...   \n",
       "...                 ...                     ...        ...  ...   \n",
       "5048403  Not Applicable                     NaN        NaN  ...   \n",
       "5048404             NaN                     NaN        NaN  ...   \n",
       "5048405             NaN                     NaN        NaN  ...   \n",
       "5048406             NaN                     NaN        NaN  ...   \n",
       "5048407             NaN                     NaN        NaN  ...   \n",
       "\n",
       "                     LimitUnit MinimumStay             PlanId QuantLimitOnSvc  \\\n",
       "0             Dollars per Year         NaN  21989AK0010001-00             Yes   \n",
       "1        Visit(s) per 6 Months         NaN  21989AK0010001-00             Yes   \n",
       "2                          NaN         NaN  21989AK0010001-00             NaN   \n",
       "3                          NaN         NaN  21989AK0010001-00             NaN   \n",
       "4                          NaN         NaN  21989AK0010001-00             NaN   \n",
       "...                        ...         ...                ...             ...   \n",
       "5048403                    NaN         NaN  96480WV0110003-00             NaN   \n",
       "5048404                    NaN         NaN  96480WV0110003-00             NaN   \n",
       "5048405                    NaN         NaN  96480WV0110003-00             NaN   \n",
       "5048406                    NaN         NaN  96480WV0110003-00             NaN   \n",
       "5048407                    NaN         NaN  96480WV0110003-00             NaN   \n",
       "\n",
       "        RowNumber SourceName StandardComponentId StateCode StateCode2  \\\n",
       "0              68       HIOS      21989AK0010001        AK         AK   \n",
       "1             104       HIOS      21989AK0010001        AK         AK   \n",
       "2             110       HIOS      21989AK0010001        AK         AK   \n",
       "3             111       HIOS      21989AK0010001        AK         AK   \n",
       "4             112       HIOS      21989AK0010001        AK         AK   \n",
       "...           ...        ...                 ...       ...        ...   \n",
       "5048403       112      SERFF      96480WV0110003        WV         WV   \n",
       "5048404       113      SERFF      96480WV0110003        WV         WV   \n",
       "5048405       114      SERFF      96480WV0110003        WV         WV   \n",
       "5048406       115      SERFF      96480WV0110003        WV         WV   \n",
       "5048407       118      SERFF      96480WV0110003        WV         WV   \n",
       "\n",
       "         VersionNum  \n",
       "0                 6  \n",
       "1                 6  \n",
       "2                 6  \n",
       "3                 6  \n",
       "4                 6  \n",
       "...             ...  \n",
       "5048403           2  \n",
       "5048404           2  \n",
       "5048405           2  \n",
       "5048406           2  \n",
       "5048407           2  \n",
       "\n",
       "[1418957 rows x 32 columns]"
      ]
     },
     "execution_count": 8,
     "metadata": {},
     "output_type": "execute_result"
    }
   ],
   "source": [
    "df = df.loc[df['BenefitName'].isin(top20_benefit.index.values)]\n",
    "df"
   ]
  },
  {
   "cell_type": "code",
   "execution_count": 9,
   "metadata": {},
   "outputs": [
    {
     "data": {
      "text/plain": [
       "Covered        768842\n",
       "Not Covered    534786\n",
       "Not covered       387\n",
       "Name: IsCovered, dtype: int64"
      ]
     },
     "execution_count": 9,
     "metadata": {},
     "output_type": "execute_result"
    }
   ],
   "source": [
    "df.IsCovered.value_counts()"
   ]
  },
  {
   "cell_type": "markdown",
   "metadata": {},
   "source": [
    "Found out that there is two types of values meaning Not covered in the column. Thus, it needed to be convert to just one value, which is \"Not Covered\"."
   ]
  },
  {
   "cell_type": "code",
   "execution_count": 10,
   "metadata": {},
   "outputs": [
    {
     "data": {
      "text/plain": [
       "Covered        768842\n",
       "Not Covered    535173\n",
       "Name: IsCovered, dtype: int64"
      ]
     },
     "execution_count": 10,
     "metadata": {},
     "output_type": "execute_result"
    }
   ],
   "source": [
    "df['IsCovered'].replace({'Not covered':'Not Covered'},inplace=True)\n",
    "df['IsCovered'].value_counts()"
   ]
  },
  {
   "cell_type": "code",
   "execution_count": 11,
   "metadata": {},
   "outputs": [
    {
     "data": {
      "text/plain": [
       "(1418957, 32)"
      ]
     },
     "execution_count": 11,
     "metadata": {},
     "output_type": "execute_result"
    }
   ],
   "source": [
    "df.shape"
   ]
  },
  {
   "cell_type": "code",
   "execution_count": 12,
   "metadata": {},
   "outputs": [
    {
     "data": {
      "text/plain": [
       "BenefitName                  0\n",
       "BusinessYear                 0\n",
       "CoinsInnTier1           650115\n",
       "CoinsInnTier2          1330521\n",
       "CoinsOutofNet           650115\n",
       "CopayInnTier1           650115\n",
       "CopayInnTier2          1330521\n",
       "CopayOutofNet           650115\n",
       "EHBVarReason            852514\n",
       "Exclusions             1328921\n",
       "Explanation            1211777\n",
       "ImportDate                   0\n",
       "IsCovered               114942\n",
       "IsEHB                   663999\n",
       "IsExclFromInnMOOP       564611\n",
       "IsExclFromOonMOOP       563928\n",
       "IsStateMandate         1369861\n",
       "IsSubjToDedTier1        890570\n",
       "IsSubjToDedTier2        890845\n",
       "IssuerId                     0\n",
       "IssuerId2                    0\n",
       "LimitQty               1304498\n",
       "LimitUnit              1304254\n",
       "MinimumStay            1418786\n",
       "PlanId                       0\n",
       "QuantLimitOnSvc        1080816\n",
       "RowNumber                    0\n",
       "SourceName                   0\n",
       "StandardComponentId          0\n",
       "StateCode                    0\n",
       "StateCode2                   0\n",
       "VersionNum                   0\n",
       "dtype: int64"
      ]
     },
     "execution_count": 12,
     "metadata": {},
     "output_type": "execute_result"
    }
   ],
   "source": [
    "df.isna().sum()"
   ]
  },
  {
   "cell_type": "code",
   "execution_count": 13,
   "metadata": {},
   "outputs": [
    {
     "data": {
      "image/png": "[encoded data removed]",
      "text/plain": [
       "<Figure size 1080x1080 with 1 Axes>"
      ]
     },
     "metadata": {
      "needs_background": "light"
     },
     "output_type": "display_data"
    }
   ],
   "source": [
    "import seaborn as sns\n",
    "\n",
    "plt.figure(figsize=(15,15))\n",
    "\n",
    "sns.countplot(y='BenefitName', hue='IsCovered', data=df, palette='hot')\n",
    "plt.xticks(rotation= 45)\n",
    "plt.show()"
   ]
  },
  {
   "cell_type": "markdown",
   "metadata": {},
   "source": [
    "As we can see from the above bar chart, dental cares took most of the cases on these top20 benefits kind. Further, insurnace do not cover most of these dental cares, except for the accidnetal dental care is covered in most of the cases. It may because that many childeren and adults are getting there teeth fixed, however, in most cases these circumstances are not urgent or neccessary, thus, it is reasonable for insurance to put their sources on those cases who injured on their teeth from accidents and needed to be cured immediately."
   ]
  },
  {
   "cell_type": "code",
   "execution_count": 14,
   "metadata": {},
   "outputs": [],
   "source": [
    "numeric_columns=['LimitQty','MinimumStay','VersionNum']\n",
    "LABELS = ['IsCovered','BusinessYear']\n"
   ]
  },
  {
   "cell_type": "markdown",
   "metadata": {},
   "source": [
    " #### split the data into a training set and a test set"
   ]
  },
  {
   "cell_type": "code",
   "execution_count": 15,
   "metadata": {},
   "outputs": [
    {
     "name": "stdout",
     "output_type": "stream",
     "text": [
      "X_train info:\n",
      "<class 'pandas.core.frame.DataFrame'>\n",
      "Int64Index: 1064217 entries, 1160836 to 1534260\n",
      "Data columns (total 3 columns):\n",
      " #   Column       Non-Null Count    Dtype  \n",
      "---  ------       --------------    -----  \n",
      " 0   LimitQty     1064217 non-null  float64\n",
      " 1   MinimumStay  1064217 non-null  float64\n",
      " 2   VersionNum   1064217 non-null  int64  \n",
      "dtypes: float64(2), int64(1)\n",
      "memory usage: 32.5 MB\n",
      "None\n",
      "\n",
      "X_test info:\n",
      "<class 'pandas.core.frame.DataFrame'>\n",
      "Int64Index: 354740 entries, 362220 to 965995\n",
      "Data columns (total 3 columns):\n",
      " #   Column       Non-Null Count   Dtype  \n",
      "---  ------       --------------   -----  \n",
      " 0   LimitQty     354740 non-null  float64\n",
      " 1   MinimumStay  354740 non-null  float64\n",
      " 2   VersionNum   354740 non-null  int64  \n",
      "dtypes: float64(2), int64(1)\n",
      "memory usage: 10.8 MB\n",
      "None\n",
      "\n",
      "y_train info:\n",
      "<class 'pandas.core.frame.DataFrame'>\n",
      "Int64Index: 1064217 entries, 1160836 to 1534260\n",
      "Data columns (total 3 columns):\n",
      " #   Column                 Non-Null Count    Dtype\n",
      "---  ------                 --------------    -----\n",
      " 0   BusinessYear           1064217 non-null  int64\n",
      " 1   IsCovered_Covered      1064217 non-null  uint8\n",
      " 2   IsCovered_Not Covered  1064217 non-null  uint8\n",
      "dtypes: int64(1), uint8(2)\n",
      "memory usage: 18.3 MB\n",
      "None\n",
      "\n",
      "y_test info:\n",
      "<class 'pandas.core.frame.DataFrame'>\n",
      "Int64Index: 354740 entries, 362220 to 965995\n",
      "Data columns (total 3 columns):\n",
      " #   Column                 Non-Null Count   Dtype\n",
      "---  ------                 --------------   -----\n",
      " 0   BusinessYear           354740 non-null  int64\n",
      " 1   IsCovered_Covered      354740 non-null  uint8\n",
      " 2   IsCovered_Not Covered  354740 non-null  uint8\n",
      "dtypes: int64(1), uint8(2)\n",
      "memory usage: 6.1 MB\n",
      "None\n"
     ]
    }
   ],
   "source": [
    "from sklearn.model_selection import train_test_split\n",
    "\n",
    "\n",
    "# create the new DataFrame: numeric_data_only\n",
    "numeric_data_only = df[numeric_columns].fillna(0)\n",
    "\n",
    "# get labels and convert to dummy variables: label_dummies\n",
    "label_dummies = pd.get_dummies(df[LABELS])\n",
    "\n",
    "# create training and test sets\n",
    "X_train, X_test, y_train, y_test = train_test_split(numeric_data_only,\n",
    "                                                    label_dummies)\n",
    "                                                            \n",
    "\n",
    "# print the info\n",
    "print(\"X_train info:\")\n",
    "print(X_train.info())\n",
    "print(\"\\nX_test info:\")  \n",
    "print(X_test.info())\n",
    "print(\"\\ny_train info:\")  \n",
    "print(y_train.info())\n",
    "print(\"\\ny_test info:\")  \n",
    "print(y_test.info())"
   ]
  },
  {
   "cell_type": "code",
   "execution_count": 16,
   "metadata": {},
   "outputs": [
    {
     "name": "stdout",
     "output_type": "stream",
     "text": [
      "<class 'pandas.core.frame.DataFrame'>\n",
      "Int64Index: 1418957 entries, 0 to 5048407\n",
      "Data columns (total 32 columns):\n",
      " #   Column               Non-Null Count    Dtype  \n",
      "---  ------               --------------    -----  \n",
      " 0   BenefitName          1418957 non-null  object \n",
      " 1   BusinessYear         1418957 non-null  int64  \n",
      " 2   CoinsInnTier1        768842 non-null   object \n",
      " 3   CoinsInnTier2        88436 non-null    object \n",
      " 4   CoinsOutofNet        768842 non-null   object \n",
      " 5   CopayInnTier1        768842 non-null   object \n",
      " 6   CopayInnTier2        88436 non-null    object \n",
      " 7   CopayOutofNet        768842 non-null   object \n",
      " 8   EHBVarReason         566443 non-null   object \n",
      " 9   Exclusions           90036 non-null    object \n",
      " 10  Explanation          207180 non-null   object \n",
      " 11  ImportDate           1418957 non-null  object \n",
      " 12  IsCovered            1304015 non-null  object \n",
      " 13  IsEHB                754958 non-null   object \n",
      " 14  IsExclFromInnMOOP    854346 non-null   object \n",
      " 15  IsExclFromOonMOOP    855029 non-null   object \n",
      " 16  IsStateMandate       49096 non-null    object \n",
      " 17  IsSubjToDedTier1     528387 non-null   object \n",
      " 18  IsSubjToDedTier2     528112 non-null   object \n",
      " 19  IssuerId             1418957 non-null  int64  \n",
      " 20  IssuerId2            1418957 non-null  int64  \n",
      " 21  LimitQty             114459 non-null   float64\n",
      " 22  LimitUnit            114703 non-null   object \n",
      " 23  MinimumStay          171 non-null      float64\n",
      " 24  PlanId               1418957 non-null  object \n",
      " 25  QuantLimitOnSvc      338141 non-null   object \n",
      " 26  RowNumber            1418957 non-null  int64  \n",
      " 27  SourceName           1418957 non-null  object \n",
      " 28  StandardComponentId  1418957 non-null  object \n",
      " 29  StateCode            1418957 non-null  object \n",
      " 30  StateCode2           1418957 non-null  object \n",
      " 31  VersionNum           1418957 non-null  int64  \n",
      "dtypes: float64(2), int64(5), object(25)\n",
      "memory usage: 357.3+ MB\n"
     ]
    }
   ],
   "source": [
    "df.info()"
   ]
  },
  {
   "cell_type": "code",
   "execution_count": 17,
   "metadata": {},
   "outputs": [],
   "source": [
    "# Fill empty and NaNs values with NaN\n",
    "df = df.fillna(np.nan)"
   ]
  },
  {
   "cell_type": "code",
   "execution_count": 18,
   "metadata": {},
   "outputs": [
    {
     "name": "stdout",
     "output_type": "stream",
     "text": [
      "object\n"
     ]
    }
   ],
   "source": [
    "# define the lambda function: categorize_label\n",
    "categorize_label = lambda x: x.astype('category')\n",
    "\n",
    "# convert IsCovered to a categorical type\n",
    "df['IsCovered'] = df[['IsCovered']].apply(categorize_label,axis=0)\n",
    "\n",
    "# Print the converted dtypes\n",
    "print(df['IsCovered'].dtypes)"
   ]
  },
  {
   "cell_type": "code",
   "execution_count": 19,
   "metadata": {},
   "outputs": [
    {
     "data": {
      "text/html": [
       "<div>\n",
       "<style scoped>\n",
       "    .dataframe tbody tr th:only-of-type {\n",
       "        vertical-align: middle;\n",
       "    }\n",
       "\n",
       "    .dataframe tbody tr th {\n",
       "        vertical-align: top;\n",
       "    }\n",
       "\n",
       "    .dataframe thead th {\n",
       "        text-align: right;\n",
       "    }\n",
       "</style>\n",
       "<table border=\"1\" class=\"dataframe\">\n",
       "  <thead>\n",
       "    <tr style=\"text-align: right;\">\n",
       "      <th></th>\n",
       "      <th>IsCovered_Covered</th>\n",
       "      <th>IsCovered_Not Covered</th>\n",
       "    </tr>\n",
       "  </thead>\n",
       "  <tbody>\n",
       "    <tr>\n",
       "      <th>0</th>\n",
       "      <td>1</td>\n",
       "      <td>0</td>\n",
       "    </tr>\n",
       "    <tr>\n",
       "      <th>1</th>\n",
       "      <td>1</td>\n",
       "      <td>0</td>\n",
       "    </tr>\n",
       "  </tbody>\n",
       "</table>\n",
       "</div>"
      ],
      "text/plain": [
       "   IsCovered_Covered  IsCovered_Not Covered\n",
       "0                  1                      0\n",
       "1                  1                      0"
      ]
     },
     "execution_count": 19,
     "metadata": {},
     "output_type": "execute_result"
    }
   ],
   "source": [
    "dummies = pd.get_dummies(df[['IsCovered']], prefix_sep='_')\n",
    "dummies.head(2) "
   ]
  },
  {
   "cell_type": "markdown",
   "metadata": {},
   "source": [
    "To know if the categorical columns have the correct type of value, I make a bar plot for category columns to take a look at how many categories are there in each column."
   ]
  },
  {
   "cell_type": "code",
   "execution_count": 20,
   "metadata": {},
   "outputs": [
    {
     "data": {
      "image/png": "[encoded data removed]",
      "text/plain": [
       "<Figure size 432x288 with 1 Axes>"
      ]
     },
     "metadata": {
      "needs_background": "light"
     },
     "output_type": "display_data"
    }
   ],
   "source": [
    "# Calculate number of unique values for each label\n",
    "num_unique_labels = df[LABELS].apply(pd.Series.nunique)\n",
    "\n",
    "# Plot number of unique values for each label\n",
    "num_unique_labels.plot(kind='bar')\n",
    "\n",
    "# Label the axes\n",
    "plt.xlabel('Labels')\n",
    "plt.ylabel('Number of unique values')\n",
    "\n",
    "# Display the plot\n",
    "plt.show()"
   ]
  },
  {
   "cell_type": "code",
   "execution_count": 21,
   "metadata": {},
   "outputs": [
    {
     "data": {
      "text/html": [
       "<div>\n",
       "<style scoped>\n",
       "    .dataframe tbody tr th:only-of-type {\n",
       "        vertical-align: middle;\n",
       "    }\n",
       "\n",
       "    .dataframe tbody tr th {\n",
       "        vertical-align: top;\n",
       "    }\n",
       "\n",
       "    .dataframe thead tr th {\n",
       "        text-align: left;\n",
       "    }\n",
       "\n",
       "    .dataframe thead tr:last-of-type th {\n",
       "        text-align: right;\n",
       "    }\n",
       "</style>\n",
       "<table border=\"1\" class=\"dataframe\">\n",
       "  <thead>\n",
       "    <tr>\n",
       "      <th></th>\n",
       "      <th colspan=\"4\" halign=\"left\">BenefitName</th>\n",
       "    </tr>\n",
       "    <tr>\n",
       "      <th></th>\n",
       "      <th>count</th>\n",
       "      <th>unique</th>\n",
       "      <th>top</th>\n",
       "      <th>freq</th>\n",
       "    </tr>\n",
       "    <tr>\n",
       "      <th>BusinessYear</th>\n",
       "      <th></th>\n",
       "      <th></th>\n",
       "      <th></th>\n",
       "      <th></th>\n",
       "    </tr>\n",
       "  </thead>\n",
       "  <tbody>\n",
       "    <tr>\n",
       "      <th>2014</th>\n",
       "      <td>335528</td>\n",
       "      <td>20</td>\n",
       "      <td>Orthodontia - Child</td>\n",
       "      <td>18719</td>\n",
       "    </tr>\n",
       "    <tr>\n",
       "      <th>2015</th>\n",
       "      <td>578188</td>\n",
       "      <td>20</td>\n",
       "      <td>Orthodontia - Adult</td>\n",
       "      <td>31269</td>\n",
       "    </tr>\n",
       "    <tr>\n",
       "      <th>2016</th>\n",
       "      <td>505241</td>\n",
       "      <td>20</td>\n",
       "      <td>Orthodontia - Adult</td>\n",
       "      <td>27389</td>\n",
       "    </tr>\n",
       "  </tbody>\n",
       "</table>\n",
       "</div>"
      ],
      "text/plain": [
       "             BenefitName                                   \n",
       "                   count unique                  top   freq\n",
       "BusinessYear                                               \n",
       "2014              335528     20  Orthodontia - Child  18719\n",
       "2015              578188     20  Orthodontia - Adult  31269\n",
       "2016              505241     20  Orthodontia - Adult  27389"
      ]
     },
     "execution_count": 21,
     "metadata": {},
     "output_type": "execute_result"
    }
   ],
   "source": [
    "# show which benefit type have the most cases in the given business year\n",
    "df[[\"BusinessYear\",\"BenefitName\"]].groupby('BusinessYear').describe()"
   ]
  },
  {
   "cell_type": "code",
   "execution_count": 22,
   "metadata": {},
   "outputs": [
    {
     "name": "stdout",
     "output_type": "stream",
     "text": [
      "[12541, 9837, 61851, 97529, 52673, 42397, 26146, 27602, 13356, 27264, 15762, 23081, 38881, 77241, 32919, 38589, 122264, 139411, 13764, 19015, 9818, 82592, 19122, 17487, 57172, 17988, 12545, 15768, 40086, 10278, 31922, 8291, 20866, 95141, 14583, 28758, 16950, 25487, 1980]\n"
     ]
    }
   ],
   "source": [
    "# count the cases in each state\n",
    "State = df.StateCode.unique()\n",
    "benefit = [ ]\n",
    "\n",
    "for state in State:\n",
    "    state_benefit = len(df[df[\"StateCode\"] == state])    \n",
    "    benefit.append(state_benefit)   \n",
    "    \n",
    "    \n",
    "print(benefit)"
   ]
  },
  {
   "cell_type": "code",
   "execution_count": 23,
   "metadata": {},
   "outputs": [
    {
     "data": {
      "image/png": "[encoded data removed]",
      "text/plain": [
       "<Figure size 1080x1080 with 1 Axes>"
      ]
     },
     "metadata": {
      "needs_background": "light"
     },
     "output_type": "display_data"
    }
   ],
   "source": [
    "import seaborn as sns\n",
    "\n",
    "# zip these two variables to one dataframe to create further visualization\n",
    "plot_state_count = pd.DataFrame(\n",
    "    {'state': State,\n",
    "     'Count' : benefit\n",
    "     })\n",
    "\n",
    "plot_state_count = plot_state_count.sort_values('Count', ascending=False).reset_index(drop=True)\n",
    "\n",
    "f, ax = plt.subplots(figsize=(15, 15)) \n",
    "ax.set_yticklabels(plot_state_count.state, rotation='horizontal', fontsize='large')\n",
    "g = sns.barplot(y = plot_state_count['state'], x= plot_state_count['Count'])\n",
    "plt.show()"
   ]
  },
  {
   "cell_type": "code",
   "execution_count": 24,
   "metadata": {},
   "outputs": [
    {
     "data": {
      "text/html": [
       "<div>\n",
       "<style scoped>\n",
       "    .dataframe tbody tr th:only-of-type {\n",
       "        vertical-align: middle;\n",
       "    }\n",
       "\n",
       "    .dataframe tbody tr th {\n",
       "        vertical-align: top;\n",
       "    }\n",
       "\n",
       "    .dataframe thead tr th {\n",
       "        text-align: left;\n",
       "    }\n",
       "\n",
       "    .dataframe thead tr:last-of-type th {\n",
       "        text-align: right;\n",
       "    }\n",
       "</style>\n",
       "<table border=\"1\" class=\"dataframe\">\n",
       "  <thead>\n",
       "    <tr>\n",
       "      <th></th>\n",
       "      <th colspan=\"4\" halign=\"left\">BenefitName</th>\n",
       "    </tr>\n",
       "    <tr>\n",
       "      <th></th>\n",
       "      <th>count</th>\n",
       "      <th>unique</th>\n",
       "      <th>top</th>\n",
       "      <th>freq</th>\n",
       "    </tr>\n",
       "    <tr>\n",
       "      <th>StateCode</th>\n",
       "      <th></th>\n",
       "      <th></th>\n",
       "      <th></th>\n",
       "      <th></th>\n",
       "    </tr>\n",
       "  </thead>\n",
       "  <tbody>\n",
       "    <tr>\n",
       "      <th>AK</th>\n",
       "      <td>12541</td>\n",
       "      <td>20</td>\n",
       "      <td>Basic Dental Care - Child</td>\n",
       "      <td>720</td>\n",
       "    </tr>\n",
       "    <tr>\n",
       "      <th>AL</th>\n",
       "      <td>9837</td>\n",
       "      <td>20</td>\n",
       "      <td>Accidental Dental</td>\n",
       "      <td>653</td>\n",
       "    </tr>\n",
       "    <tr>\n",
       "      <th>AR</th>\n",
       "      <td>19015</td>\n",
       "      <td>20</td>\n",
       "      <td>Orthodontia - Adult</td>\n",
       "      <td>1077</td>\n",
       "    </tr>\n",
       "    <tr>\n",
       "      <th>AZ</th>\n",
       "      <td>61851</td>\n",
       "      <td>20</td>\n",
       "      <td>Orthodontia - Child</td>\n",
       "      <td>3345</td>\n",
       "    </tr>\n",
       "    <tr>\n",
       "      <th>DE</th>\n",
       "      <td>9818</td>\n",
       "      <td>20</td>\n",
       "      <td>Accidental Dental</td>\n",
       "      <td>602</td>\n",
       "    </tr>\n",
       "    <tr>\n",
       "      <th>FL</th>\n",
       "      <td>97529</td>\n",
       "      <td>20</td>\n",
       "      <td>Routine Dental Services (Adult)</td>\n",
       "      <td>5130</td>\n",
       "    </tr>\n",
       "    <tr>\n",
       "      <th>GA</th>\n",
       "      <td>52673</td>\n",
       "      <td>20</td>\n",
       "      <td>Orthodontia - Child</td>\n",
       "      <td>2893</td>\n",
       "    </tr>\n",
       "    <tr>\n",
       "      <th>HI</th>\n",
       "      <td>1980</td>\n",
       "      <td>20</td>\n",
       "      <td>Routine Dental Services (Adult)</td>\n",
       "      <td>110</td>\n",
       "    </tr>\n",
       "    <tr>\n",
       "      <th>IA</th>\n",
       "      <td>31922</td>\n",
       "      <td>20</td>\n",
       "      <td>Routine Dental Services (Adult)</td>\n",
       "      <td>1727</td>\n",
       "    </tr>\n",
       "    <tr>\n",
       "      <th>ID</th>\n",
       "      <td>8291</td>\n",
       "      <td>20</td>\n",
       "      <td>Accidental Dental</td>\n",
       "      <td>447</td>\n",
       "    </tr>\n",
       "    <tr>\n",
       "      <th>IL</th>\n",
       "      <td>82592</td>\n",
       "      <td>20</td>\n",
       "      <td>Routine Dental Services (Adult)</td>\n",
       "      <td>4299</td>\n",
       "    </tr>\n",
       "    <tr>\n",
       "      <th>IN</th>\n",
       "      <td>42397</td>\n",
       "      <td>20</td>\n",
       "      <td>Orthodontia - Child</td>\n",
       "      <td>2347</td>\n",
       "    </tr>\n",
       "    <tr>\n",
       "      <th>KS</th>\n",
       "      <td>19122</td>\n",
       "      <td>20</td>\n",
       "      <td>Basic Dental Care - Child</td>\n",
       "      <td>1087</td>\n",
       "    </tr>\n",
       "    <tr>\n",
       "      <th>LA</th>\n",
       "      <td>26146</td>\n",
       "      <td>20</td>\n",
       "      <td>Routine Dental Services (Adult)</td>\n",
       "      <td>1491</td>\n",
       "    </tr>\n",
       "    <tr>\n",
       "      <th>ME</th>\n",
       "      <td>17487</td>\n",
       "      <td>20</td>\n",
       "      <td>Basic Dental Care - Child</td>\n",
       "      <td>975</td>\n",
       "    </tr>\n",
       "    <tr>\n",
       "      <th>MI</th>\n",
       "      <td>57172</td>\n",
       "      <td>20</td>\n",
       "      <td>Orthodontia - Child</td>\n",
       "      <td>3248</td>\n",
       "    </tr>\n",
       "    <tr>\n",
       "      <th>MO</th>\n",
       "      <td>27602</td>\n",
       "      <td>20</td>\n",
       "      <td>Routine Dental Services (Adult)</td>\n",
       "      <td>1577</td>\n",
       "    </tr>\n",
       "    <tr>\n",
       "      <th>MS</th>\n",
       "      <td>13356</td>\n",
       "      <td>20</td>\n",
       "      <td>Basic Dental Care - Child</td>\n",
       "      <td>725</td>\n",
       "    </tr>\n",
       "    <tr>\n",
       "      <th>MT</th>\n",
       "      <td>17988</td>\n",
       "      <td>20</td>\n",
       "      <td>Basic Dental Care - Child</td>\n",
       "      <td>1049</td>\n",
       "    </tr>\n",
       "    <tr>\n",
       "      <th>NC</th>\n",
       "      <td>27264</td>\n",
       "      <td>20</td>\n",
       "      <td>Routine Dental Services (Adult)</td>\n",
       "      <td>1537</td>\n",
       "    </tr>\n",
       "    <tr>\n",
       "      <th>ND</th>\n",
       "      <td>15762</td>\n",
       "      <td>20</td>\n",
       "      <td>Basic Dental Care - Child</td>\n",
       "      <td>974</td>\n",
       "    </tr>\n",
       "    <tr>\n",
       "      <th>NE</th>\n",
       "      <td>20866</td>\n",
       "      <td>20</td>\n",
       "      <td>Routine Dental Services (Adult)</td>\n",
       "      <td>1238</td>\n",
       "    </tr>\n",
       "    <tr>\n",
       "      <th>NH</th>\n",
       "      <td>12545</td>\n",
       "      <td>20</td>\n",
       "      <td>Basic Dental Care - Child</td>\n",
       "      <td>707</td>\n",
       "    </tr>\n",
       "    <tr>\n",
       "      <th>NJ</th>\n",
       "      <td>23081</td>\n",
       "      <td>20</td>\n",
       "      <td>Routine Dental Services (Adult)</td>\n",
       "      <td>1357</td>\n",
       "    </tr>\n",
       "    <tr>\n",
       "      <th>NM</th>\n",
       "      <td>15768</td>\n",
       "      <td>20</td>\n",
       "      <td>Basic Dental Care - Child</td>\n",
       "      <td>828</td>\n",
       "    </tr>\n",
       "    <tr>\n",
       "      <th>NV</th>\n",
       "      <td>16950</td>\n",
       "      <td>20</td>\n",
       "      <td>Basic Dental Care - Child</td>\n",
       "      <td>930</td>\n",
       "    </tr>\n",
       "    <tr>\n",
       "      <th>OH</th>\n",
       "      <td>95141</td>\n",
       "      <td>20</td>\n",
       "      <td>Routine Dental Services (Adult)</td>\n",
       "      <td>5092</td>\n",
       "    </tr>\n",
       "    <tr>\n",
       "      <th>OK</th>\n",
       "      <td>38881</td>\n",
       "      <td>20</td>\n",
       "      <td>Routine Dental Services (Adult)</td>\n",
       "      <td>2136</td>\n",
       "    </tr>\n",
       "    <tr>\n",
       "      <th>OR</th>\n",
       "      <td>25487</td>\n",
       "      <td>20</td>\n",
       "      <td>Orthodontia - Adult</td>\n",
       "      <td>1344</td>\n",
       "    </tr>\n",
       "    <tr>\n",
       "      <th>PA</th>\n",
       "      <td>77241</td>\n",
       "      <td>20</td>\n",
       "      <td>Orthodontia - Child</td>\n",
       "      <td>4208</td>\n",
       "    </tr>\n",
       "    <tr>\n",
       "      <th>SC</th>\n",
       "      <td>32919</td>\n",
       "      <td>20</td>\n",
       "      <td>Routine Dental Services (Adult)</td>\n",
       "      <td>1817</td>\n",
       "    </tr>\n",
       "    <tr>\n",
       "      <th>SD</th>\n",
       "      <td>14583</td>\n",
       "      <td>20</td>\n",
       "      <td>Basic Dental Care - Child</td>\n",
       "      <td>843</td>\n",
       "    </tr>\n",
       "    <tr>\n",
       "      <th>TN</th>\n",
       "      <td>38589</td>\n",
       "      <td>20</td>\n",
       "      <td>Routine Dental Services (Adult)</td>\n",
       "      <td>2073</td>\n",
       "    </tr>\n",
       "    <tr>\n",
       "      <th>TX</th>\n",
       "      <td>122264</td>\n",
       "      <td>20</td>\n",
       "      <td>Routine Dental Services (Adult)</td>\n",
       "      <td>6441</td>\n",
       "    </tr>\n",
       "    <tr>\n",
       "      <th>UT</th>\n",
       "      <td>28758</td>\n",
       "      <td>20</td>\n",
       "      <td>Routine Dental Services (Adult)</td>\n",
       "      <td>1527</td>\n",
       "    </tr>\n",
       "    <tr>\n",
       "      <th>VA</th>\n",
       "      <td>40086</td>\n",
       "      <td>20</td>\n",
       "      <td>Routine Dental Services (Adult)</td>\n",
       "      <td>2256</td>\n",
       "    </tr>\n",
       "    <tr>\n",
       "      <th>WI</th>\n",
       "      <td>139411</td>\n",
       "      <td>20</td>\n",
       "      <td>Routine Dental Services (Adult)</td>\n",
       "      <td>7135</td>\n",
       "    </tr>\n",
       "    <tr>\n",
       "      <th>WV</th>\n",
       "      <td>10278</td>\n",
       "      <td>20</td>\n",
       "      <td>Basic Dental Care - Child</td>\n",
       "      <td>625</td>\n",
       "    </tr>\n",
       "    <tr>\n",
       "      <th>WY</th>\n",
       "      <td>13764</td>\n",
       "      <td>20</td>\n",
       "      <td>Basic Dental Care - Child</td>\n",
       "      <td>807</td>\n",
       "    </tr>\n",
       "  </tbody>\n",
       "</table>\n",
       "</div>"
      ],
      "text/plain": [
       "          BenefitName                                              \n",
       "                count unique                              top  freq\n",
       "StateCode                                                          \n",
       "AK              12541     20        Basic Dental Care - Child   720\n",
       "AL               9837     20                Accidental Dental   653\n",
       "AR              19015     20              Orthodontia - Adult  1077\n",
       "AZ              61851     20              Orthodontia - Child  3345\n",
       "DE               9818     20                Accidental Dental   602\n",
       "FL              97529     20  Routine Dental Services (Adult)  5130\n",
       "GA              52673     20              Orthodontia - Child  2893\n",
       "HI               1980     20  Routine Dental Services (Adult)   110\n",
       "IA              31922     20  Routine Dental Services (Adult)  1727\n",
       "ID               8291     20                Accidental Dental   447\n",
       "IL              82592     20  Routine Dental Services (Adult)  4299\n",
       "IN              42397     20              Orthodontia - Child  2347\n",
       "KS              19122     20        Basic Dental Care - Child  1087\n",
       "LA              26146     20  Routine Dental Services (Adult)  1491\n",
       "ME              17487     20        Basic Dental Care - Child   975\n",
       "MI              57172     20              Orthodontia - Child  3248\n",
       "MO              27602     20  Routine Dental Services (Adult)  1577\n",
       "MS              13356     20        Basic Dental Care - Child   725\n",
       "MT              17988     20        Basic Dental Care - Child  1049\n",
       "NC              27264     20  Routine Dental Services (Adult)  1537\n",
       "ND              15762     20        Basic Dental Care - Child   974\n",
       "NE              20866     20  Routine Dental Services (Adult)  1238\n",
       "NH              12545     20        Basic Dental Care - Child   707\n",
       "NJ              23081     20  Routine Dental Services (Adult)  1357\n",
       "NM              15768     20        Basic Dental Care - Child   828\n",
       "NV              16950     20        Basic Dental Care - Child   930\n",
       "OH              95141     20  Routine Dental Services (Adult)  5092\n",
       "OK              38881     20  Routine Dental Services (Adult)  2136\n",
       "OR              25487     20              Orthodontia - Adult  1344\n",
       "PA              77241     20              Orthodontia - Child  4208\n",
       "SC              32919     20  Routine Dental Services (Adult)  1817\n",
       "SD              14583     20        Basic Dental Care - Child   843\n",
       "TN              38589     20  Routine Dental Services (Adult)  2073\n",
       "TX             122264     20  Routine Dental Services (Adult)  6441\n",
       "UT              28758     20  Routine Dental Services (Adult)  1527\n",
       "VA              40086     20  Routine Dental Services (Adult)  2256\n",
       "WI             139411     20  Routine Dental Services (Adult)  7135\n",
       "WV              10278     20        Basic Dental Care - Child   625\n",
       "WY              13764     20        Basic Dental Care - Child   807"
      ]
     },
     "execution_count": 24,
     "metadata": {},
     "output_type": "execute_result"
    }
   ],
   "source": [
    "# see the top benefit type for each state\n",
    "df[[\"StateCode\",\"BenefitName\"]].groupby('StateCode').describe()"
   ]
  },
  {
   "cell_type": "markdown",
   "metadata": {},
   "source": [
    "As we can see from the above dataframe, most cases are Orthodontia - Child. And for those not Orthodontia - Child as thier top cases, they are also dental care related."
   ]
  },
  {
   "cell_type": "markdown",
   "metadata": {},
   "source": [
    "Data process the column CoinsOutofNet to change string value to zero and only contain integer value in the column to make a bar plot for visualization."
   ]
  },
  {
   "cell_type": "code",
   "execution_count": 25,
   "metadata": {},
   "outputs": [],
   "source": [
    "df[\"CoinsOutofNet\"] = df[\"CoinsOutofNet\"].str.split(\"%\").str[0]"
   ]
  },
  {
   "cell_type": "code",
   "execution_count": 26,
   "metadata": {},
   "outputs": [],
   "source": [
    "df['CoinsOutofNet'].replace({\"No Charge\":0, \"No Charge after deductible\":0, \"Not Applicable\":0,\"$0\":0}, inplace=True)"
   ]
  },
  {
   "cell_type": "code",
   "execution_count": 27,
   "metadata": {},
   "outputs": [],
   "source": [
    "df.loc[df['CoinsOutofNet'].notnull(), 'CoinsOutofNet'] = df.loc[df['CoinsOutofNet'].notnull(), 'CoinsOutofNet'].astype(int)"
   ]
  },
  {
   "cell_type": "code",
   "execution_count": 28,
   "metadata": {},
   "outputs": [
    {
     "data": {
      "image/png": "[encoded data removed]",
      "text/plain": [
       "<Figure size 2000x800 with 1 Axes>"
      ]
     },
     "metadata": {
      "needs_background": "light"
     },
     "output_type": "display_data"
    }
   ],
   "source": [
    "# get a look at the percetage of out of Network coinsurance percentage\n",
    "\n",
    "from matplotlib.pyplot import figure\n",
    "import seaborn as sns\n",
    "\n",
    "figure(figsize=(25, 10), dpi=80)\n",
    "\n",
    "sns.barplot(df['BenefitName'], df['CoinsOutofNet'])\n",
    "plt.title('Benefit vs Out of Network Coinsurance percentage', fontsize = 20)\n",
    "plt.xticks(rotation= 90,fontsize=20)\n",
    "\n",
    "plt.show()"
   ]
  },
  {
   "cell_type": "code",
   "execution_count": 29,
   "metadata": {},
   "outputs": [
    {
     "name": "stdout",
     "output_type": "stream",
     "text": [
      "<class 'pandas.core.frame.DataFrame'>\n",
      "Int64Index: 1418957 entries, 0 to 5048407\n",
      "Data columns (total 32 columns):\n",
      " #   Column               Non-Null Count    Dtype  \n",
      "---  ------               --------------    -----  \n",
      " 0   BenefitName          1418957 non-null  object \n",
      " 1   BusinessYear         1418957 non-null  int64  \n",
      " 2   CoinsInnTier1        768842 non-null   object \n",
      " 3   CoinsInnTier2        88436 non-null    object \n",
      " 4   CoinsOutofNet        768842 non-null   object \n",
      " 5   CopayInnTier1        768842 non-null   object \n",
      " 6   CopayInnTier2        88436 non-null    object \n",
      " 7   CopayOutofNet        768842 non-null   object \n",
      " 8   EHBVarReason         566443 non-null   object \n",
      " 9   Exclusions           90036 non-null    object \n",
      " 10  Explanation          207180 non-null   object \n",
      " 11  ImportDate           1418957 non-null  object \n",
      " 12  IsCovered            1304015 non-null  object \n",
      " 13  IsEHB                754958 non-null   object \n",
      " 14  IsExclFromInnMOOP    854346 non-null   object \n",
      " 15  IsExclFromOonMOOP    855029 non-null   object \n",
      " 16  IsStateMandate       49096 non-null    object \n",
      " 17  IsSubjToDedTier1     528387 non-null   object \n",
      " 18  IsSubjToDedTier2     528112 non-null   object \n",
      " 19  IssuerId             1418957 non-null  int64  \n",
      " 20  IssuerId2            1418957 non-null  int64  \n",
      " 21  LimitQty             114459 non-null   float64\n",
      " 22  LimitUnit            114703 non-null   object \n",
      " 23  MinimumStay          171 non-null      float64\n",
      " 24  PlanId               1418957 non-null  object \n",
      " 25  QuantLimitOnSvc      338141 non-null   object \n",
      " 26  RowNumber            1418957 non-null  int64  \n",
      " 27  SourceName           1418957 non-null  object \n",
      " 28  StandardComponentId  1418957 non-null  object \n",
      " 29  StateCode            1418957 non-null  object \n",
      " 30  StateCode2           1418957 non-null  object \n",
      " 31  VersionNum           1418957 non-null  int64  \n",
      "dtypes: float64(2), int64(5), object(25)\n",
      "memory usage: 357.3+ MB\n"
     ]
    }
   ],
   "source": [
    "df.info()"
   ]
  },
  {
   "cell_type": "code",
   "execution_count": 30,
   "metadata": {},
   "outputs": [
    {
     "data": {
      "image/png": "[encoded data removed]",
      "text/plain": [
       "<Figure size 432x288 with 1 Axes>"
      ]
     },
     "metadata": {
      "needs_background": "light"
     },
     "output_type": "display_data"
    }
   ],
   "source": [
    "#plt.figure(figsize=(15,15))\n",
    "sns.scatterplot(data=df, x=\"IsCovered\", y=\"LimitQty\", hue=\"IsCovered\", palette=\"deep\")\n",
    "plt.xticks(rotation=90)\n",
    "plt.show()"
   ]
  },
  {
   "cell_type": "code",
   "execution_count": 38,
   "metadata": {},
   "outputs": [
    {
     "name": "stderr",
     "output_type": "stream",
     "text": [
      "No handles with labels found to put in legend.\n"
     ]
    },
    {
     "data": {
      "image/png": "[encoded data removed]",
      "text/plain": [
       "<Figure size 432x288 with 1 Axes>"
      ]
     },
     "metadata": {
      "needs_background": "light"
     },
     "output_type": "display_data"
    }
   ],
   "source": [
    "sns.barplot(data = df,y=df[\"LimitQty\"],x=df['CoinsOutofNet'])\n",
    "plt.legend()\n",
    "plt.show()"
   ]
  },
  {
   "cell_type": "code",
   "execution_count": 64,
   "metadata": {},
   "outputs": [
    {
     "data": {
      "image/png": "[encoded data removed]",
      "text/plain": [
       "<Figure size 720x360 with 1 Axes>"
      ]
     },
     "metadata": {
      "needs_background": "light"
     },
     "output_type": "display_data"
    }
   ],
   "source": [
    "# visualize on how many occurances of benefits are there in each business year\n",
    "sns.set_context('paper')\n",
    "plt.figure(figsize=(10,5))\n",
    "ax = df.groupby('BusinessYear')['BenefitName'].count().plot.bar()\n",
    "plt.title('Years vs Benefits')\n",
    "plt.xticks(fontsize = 15, rotation = 360)\n",
    "\n",
    "# add numeric label to each bar\n",
    "for p in ax.patches:\n",
    "    ax.annotate(str(p.get_height()), (p.get_x()+0.12, p.get_height()+100))"
   ]
  },
  {
   "cell_type": "markdown",
   "metadata": {},
   "source": [
    "As we see from the above bar plot on business vs occurance of benefits, year 2015 had the most occurnace of benefits compared to 2014 and 2016. "
   ]
  }
 ],
 "metadata": {
  "kernelspec": {
   "display_name": "Python 3",
   "language": "python",
   "name": "python3"
  },
  "language_info": {
   "codemirror_mode": {
    "name": "ipython",
    "version": 3
   },
   "file_extension": ".py",
   "mimetype": "text/x-python",
   "name": "python",
   "nbconvert_exporter": "python",
   "pygments_lexer": "ipython3",
   "version": "3.7.6"
  }
 },
 "nbformat": 4,
 "nbformat_minor": 4
}
